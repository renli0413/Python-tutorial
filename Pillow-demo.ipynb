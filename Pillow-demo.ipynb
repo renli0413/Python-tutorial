{
 "cells": [
  {
   "cell_type": "code",
   "execution_count": 1,
   "metadata": {},
   "outputs": [
    {
     "data": {
      "text/plain": [
       "'\\n将一张图片填充为正方形后切为九张图\\n'"
      ]
     },
     "execution_count": 1,
     "metadata": {},
     "output_type": "execute_result"
    }
   ],
   "source": [
    "'''\n",
    "将一张图片填充为正方形后切为九张图\n",
    "'''"
   ]
  },
  {
   "cell_type": "code",
   "execution_count": 2,
   "metadata": {},
   "outputs": [],
   "source": [
    "from PIL import Image"
   ]
  },
  {
   "cell_type": "code",
   "execution_count": 3,
   "metadata": {},
   "outputs": [],
   "source": [
    "import sys"
   ]
  },
  {
   "cell_type": "code",
   "execution_count": 4,
   "metadata": {},
   "outputs": [],
   "source": [
    "def fill_image(image):\n",
    "    width,height=image.size\n",
    "    \n",
    "    new_image_length=width if width>height else height\n",
    "    new_image=Image.new(image.mode,(new_image_length,new_image_length),color='white')\n",
    "    \n",
    "    if width>height:\n",
    "        new_image.paste(image,(0,int((new_image_length-height)/2)))\n",
    "    else:\n",
    "        new_image.paste(image,(0,int((new_image_length-width)/2)))\n",
    "    return new_image"
   ]
  },
  {
   "cell_type": "code",
   "execution_count": 5,
   "metadata": {},
   "outputs": [],
   "source": [
    "def cut_image(image):\n",
    "    width,height=image.size\n",
    "    item_width=int(width/3)\n",
    "    box_list=[]\n",
    "    width, height = image.size\n",
    "    item_width = int(width / 3)\n",
    "    box_list = []    \n",
    "    # (left, upper, right, lower)\n",
    "    for i in range(0,3):#两重循环，生成9张图片基于原图的位置\n",
    "        for j in range(0,3):           \n",
    "            #print((i*item_width,j*item_width,(i+1)*item_width,(j+1)*item_width))\n",
    "            box = (j*item_width,i*item_width,(j+1)*item_width,(i+1)*item_width)\n",
    "            box_list.append(box)\n",
    "\n",
    "    image_list = [image.crop(box) for box in box_list]    \n",
    "    return image_list"
   ]
  },
  {
   "cell_type": "code",
   "execution_count": 6,
   "metadata": {},
   "outputs": [],
   "source": [
    "def save_images(image_list):\n",
    "    index = 1\n",
    "    for image in image_list:\n",
    "        image.save('./result/python'+str(index) + '.png', 'PNG')\n",
    "        index += 1"
   ]
  },
  {
   "cell_type": "code",
   "execution_count": 7,
   "metadata": {},
   "outputs": [
    {
     "name": "stdout",
     "output_type": "stream",
     "text": [
      "ok,add new line\n",
      "\n"
     ]
    }
   ],
   "source": [
    "if __name__ == '__main__':\n",
    "    file_path = \"python.jpg\"\n",
    "    image = Image.open(file_path)   \n",
    "    #image.show()\n",
    "    image = fill_image(image)\n",
    "    image_list = cut_image(image)\n",
    "    save_images(image_list)\n",
    "    print('ok,add new line\\n')"
   ]
  },
  {
   "cell_type": "code",
   "execution_count": null,
   "metadata": {},
   "outputs": [],
   "source": []
  }
 ],
 "metadata": {
  "kernelspec": {
   "display_name": "Python 3",
   "language": "python",
   "name": "python3"
  },
  "language_info": {
   "codemirror_mode": {
    "name": "ipython",
    "version": 3
   },
   "file_extension": ".py",
   "mimetype": "text/x-python",
   "name": "python",
   "nbconvert_exporter": "python",
   "pygments_lexer": "ipython3",
   "version": "3.7.1"
  }
 },
 "nbformat": 4,
 "nbformat_minor": 2
}
